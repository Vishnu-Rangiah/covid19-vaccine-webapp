{
 "cells": [
  {
   "cell_type": "code",
   "execution_count": 1,
   "metadata": {},
   "outputs": [
    {
     "name": "stdout",
     "output_type": "stream",
     "text": [
      "  AGE_YRS SEX         VAX_MANU VAX_DOSE_SERIES DIED L_THREAT HOSPITAL DISABLE  \\\n",
      "0    33.0   F          MODERNA               1  NaN      NaN      NaN     NaN   \n",
      "1    73.0   F          MODERNA               1  NaN      NaN      NaN     NaN   \n",
      "2    23.0   F  PFIZER\\BIONTECH               1  NaN      NaN      NaN     NaN   \n",
      "3    58.0   F          MODERNA             UNK  NaN      NaN      NaN     NaN   \n",
      "4    47.0   F          MODERNA               1  NaN      NaN      NaN     NaN   \n",
      "\n",
      "  RECOVD  \n",
      "0      Y  \n",
      "1      Y  \n",
      "2      U  \n",
      "3      Y  \n",
      "4      N  \n",
      "<class 'pandas.core.frame.DataFrame'>\n",
      "RangeIndex: 146622 entries, 0 to 146621\n",
      "Data columns (total 9 columns):\n",
      " #   Column           Non-Null Count   Dtype \n",
      "---  ------           --------------   ----- \n",
      " 0   AGE_YRS          131782 non-null  object\n",
      " 1   SEX              146622 non-null  object\n",
      " 2   VAX_MANU         146622 non-null  object\n",
      " 3   VAX_DOSE_SERIES  145639 non-null  object\n",
      " 4   DIED             3731 non-null    object\n",
      " 5   L_THREAT         3223 non-null    object\n",
      " 6   HOSPITAL         10648 non-null   object\n",
      " 7   DISABLE          2321 non-null    object\n",
      " 8   RECOVD           133925 non-null  object\n",
      "dtypes: object(9)\n",
      "memory usage: 10.1+ MB\n",
      "None\n"
     ]
    }
   ],
   "source": [
    "import pandas as pd\n",
    "import matplotlib.pyplot as plt\n",
    "import numpy as np\n",
    "from sklearn.linear_model import LinearRegression \n",
    "from sklearn.metrics import mean_squared_error\n",
    "from scipy.interpolate import griddata\n",
    "\n",
    "# Preprocess the data\n",
    "\n",
    "path_data = './data/2021VAERSDATA.csv'\n",
    "path_vax = './data/2021VAERSVAX.csv'\n",
    "\n",
    "df_data = pd.read_csv(path_data, dtype='unicode')\n",
    "df_vax = pd.read_csv(path_vax, dtype='unicode')\n",
    "\n",
    "df_vax = df_vax[['VAX_MANU', 'VAX_DOSE_SERIES']].copy()\n",
    "df = df_data[['AGE_YRS', 'SEX']].copy()\n",
    "df = pd.concat([df,df_vax], axis=1, join=\"inner\")\n",
    "\n",
    "# Target variables: Died, Life Threatening, Hospitalized, Disabled, Recovered\n",
    "df_outcomes = df_data[['DIED', 'L_THREAT', 'HOSPITAL', 'DISABLE', 'RECOVD']].copy()\n",
    "df = pd.concat([df,df_outcomes], axis=1, join=\"inner\")\n",
    "\n",
    "print(df.head())\n",
    "print(df.info())"
   ]
  },
  {
   "cell_type": "code",
   "execution_count": 2,
   "metadata": {},
   "outputs": [
    {
     "name": "stdout",
     "output_type": "stream",
     "text": [
      "<class 'pandas.core.frame.DataFrame'>\n",
      "RangeIndex: 81490 entries, 0 to 81489\n",
      "Data columns (total 9 columns):\n",
      " #   Column           Non-Null Count  Dtype  \n",
      "---  ------           --------------  -----  \n",
      " 0   AGE_YRS          81490 non-null  float64\n",
      " 1   SEX              81490 non-null  object \n",
      " 2   VAX_MANU         81490 non-null  object \n",
      " 3   VAX_DOSE_SERIES  81490 non-null  int32  \n",
      " 4   DIED             2147 non-null   object \n",
      " 5   L_THREAT         1950 non-null   object \n",
      " 6   HOSPITAL         5250 non-null   object \n",
      " 7   DISABLE          1532 non-null   object \n",
      " 8   RECOVD           81490 non-null  object \n",
      "dtypes: float64(1), int32(1), object(7)\n",
      "memory usage: 5.3+ MB\n"
     ]
    }
   ],
   "source": [
    "# Normalize and scale the data\n",
    "\n",
    "from sklearn.preprocessing import LabelEncoder\n",
    "from sklearn.preprocessing import MinMaxScaler\n",
    "\n",
    "# AGE_YEARS\n",
    "# Remove rows with missing values;\n",
    "# Change data type to float\n",
    "df.drop(df[df['AGE_YRS'].isna()].index, inplace = True)\n",
    "df[\"AGE_YRS\"] = df[\"AGE_YRS\"].astype(str).astype(float)\n",
    "\n",
    "# SEX\n",
    "# Remove rows with blank cells\n",
    "df.drop(df[df['SEX'].isna()].index, inplace = True)\n",
    "\n",
    "# VAX_MANU\n",
    "# Contains: 'DYNAVAX TECHNOLOGIES CORPORATION', 'EMERGENT BIOSOLUTIONS', 'GLAXOSMITHKLINE BIOLOGICALS', 'JANSSEN', 'MERCK & CO. INC.', 'MODERNA', 'NOVARTIS VACCINES AND DIAGNOSTICS', 'PFIZER\\\\BIONTECH', 'PFIZER\\\\WYETH', 'PROTEIN SCIENCES CORPORATION', 'SANOFI PASTEUR', 'SEQIRUS, INC.', 'TEVA PHARMACEUTICALS', 'UNKNOWN MANUFACTURER'\n",
    "# Remove rows where VZX_MANU is not Moderna, Pfizer\\Biotech, or Janssen\n",
    "df.drop(df[(df['VAX_MANU']!=\"MODERNA\") & (df['VAX_MANU']!=\"PFIZER\\BIONTECH\") &(df['VAX_MANU']!=\"JANSSEN\")].index, inplace = True)\n",
    "\n",
    "# VAX_DOSE_SERIES\n",
    "# Remove rows where VAX_DOSE_SERIES is not 1 or 2\n",
    "# Change data type\n",
    "df.drop(df[(df['VAX_DOSE_SERIES']!=\"1\") & (df['VAX_DOSE_SERIES']!=\"2\")].index, inplace = True)\n",
    "df[\"VAX_DOSE_SERIES\"] = df[\"VAX_DOSE_SERIES\"].astype(str).astype(int)\n",
    "\n",
    "# RECOVD\n",
    "# Remove rows where RECOVD is not 1 or 2\n",
    "df.drop(df[(df['RECOVD']!=\"Y\") & (df['RECOVD']!=\"N\")].index, inplace = True)\n",
    "\n",
    "# Update indeces\n",
    "df = df.reset_index().copy()\n",
    "del df['index']\n",
    "\n",
    "# cleaned 44.2% of the data\n",
    "df.info()"
   ]
  },
  {
   "cell_type": "code",
   "execution_count": 4,
   "metadata": {},
   "outputs": [
    {
     "data": {
      "text/html": [
       "<div>\n",
       "<style scoped>\n",
       "    .dataframe tbody tr th:only-of-type {\n",
       "        vertical-align: middle;\n",
       "    }\n",
       "\n",
       "    .dataframe tbody tr th {\n",
       "        vertical-align: top;\n",
       "    }\n",
       "\n",
       "    .dataframe thead th {\n",
       "        text-align: right;\n",
       "    }\n",
       "</style>\n",
       "<table border=\"1\" class=\"dataframe\">\n",
       "  <thead>\n",
       "    <tr style=\"text-align: right;\">\n",
       "      <th></th>\n",
       "      <th>AGE_YRS</th>\n",
       "      <th>SEX</th>\n",
       "      <th>VAX_MANU</th>\n",
       "      <th>VAX_DOSE_SERIES</th>\n",
       "      <th>DIED</th>\n",
       "      <th>L_THREAT</th>\n",
       "      <th>HOSPITAL</th>\n",
       "      <th>DISABLE</th>\n",
       "      <th>RECOVD</th>\n",
       "    </tr>\n",
       "  </thead>\n",
       "  <tbody>\n",
       "    <tr>\n",
       "      <th>0</th>\n",
       "      <td>0.276825</td>\n",
       "      <td>0</td>\n",
       "      <td>1</td>\n",
       "      <td>1</td>\n",
       "      <td>1</td>\n",
       "      <td>1</td>\n",
       "      <td>1</td>\n",
       "      <td>1</td>\n",
       "      <td>1</td>\n",
       "    </tr>\n",
       "    <tr>\n",
       "      <th>1</th>\n",
       "      <td>0.613185</td>\n",
       "      <td>0</td>\n",
       "      <td>1</td>\n",
       "      <td>1</td>\n",
       "      <td>1</td>\n",
       "      <td>1</td>\n",
       "      <td>1</td>\n",
       "      <td>1</td>\n",
       "      <td>1</td>\n",
       "    </tr>\n",
       "    <tr>\n",
       "      <th>2</th>\n",
       "      <td>0.394551</td>\n",
       "      <td>0</td>\n",
       "      <td>1</td>\n",
       "      <td>1</td>\n",
       "      <td>1</td>\n",
       "      <td>1</td>\n",
       "      <td>1</td>\n",
       "      <td>1</td>\n",
       "      <td>0</td>\n",
       "    </tr>\n",
       "    <tr>\n",
       "      <th>3</th>\n",
       "      <td>0.369324</td>\n",
       "      <td>0</td>\n",
       "      <td>1</td>\n",
       "      <td>1</td>\n",
       "      <td>1</td>\n",
       "      <td>1</td>\n",
       "      <td>1</td>\n",
       "      <td>1</td>\n",
       "      <td>1</td>\n",
       "    </tr>\n",
       "    <tr>\n",
       "      <th>4</th>\n",
       "      <td>0.596367</td>\n",
       "      <td>0</td>\n",
       "      <td>1</td>\n",
       "      <td>1</td>\n",
       "      <td>1</td>\n",
       "      <td>1</td>\n",
       "      <td>1</td>\n",
       "      <td>1</td>\n",
       "      <td>0</td>\n",
       "    </tr>\n",
       "  </tbody>\n",
       "</table>\n",
       "</div>"
      ],
      "text/plain": [
       "    AGE_YRS  SEX  VAX_MANU  VAX_DOSE_SERIES  DIED  L_THREAT  HOSPITAL  \\\n",
       "0  0.276825    0         1                1     1         1         1   \n",
       "1  0.613185    0         1                1     1         1         1   \n",
       "2  0.394551    0         1                1     1         1         1   \n",
       "3  0.369324    0         1                1     1         1         1   \n",
       "4  0.596367    0         1                1     1         1         1   \n",
       "\n",
       "   DISABLE  RECOVD  \n",
       "0        1       1  \n",
       "1        1       1  \n",
       "2        1       0  \n",
       "3        1       1  \n",
       "4        1       0  "
      ]
     },
     "execution_count": 4,
     "metadata": {},
     "output_type": "execute_result"
    }
   ],
   "source": [
    "from sklearn.preprocessing import LabelEncoder\n",
    "from sklearn.preprocessing import MinMaxScaler\n",
    "\n",
    "# Scale or encode the values\n",
    "encoder_SEX = LabelEncoder()\n",
    "encoder_VAX_MANU = LabelEncoder()\n",
    "encoder_DIED = LabelEncoder()\n",
    "encoder_L_THREAT = LabelEncoder()\n",
    "encoder_HOSPITAL = LabelEncoder()\n",
    "encoder_DISABLE = LabelEncoder()\n",
    "encoder_RECOVD = LabelEncoder()\n",
    "scaler_AGE_YRS = MinMaxScaler() \n",
    "\n",
    "# Encode: SEX(Male=1; Female=0); DIED(Y=0; NaN=1); L_THREAT(Y=0; NaN=1); HOSPITAL(Y=0; NaN=1); DISABLE(Y=0; NaN=1); RECOVD(Y=1; N=0); VAX_MENU(...)\n",
    "df[[\"SEX\"]] = encoder_SEX.fit_transform(np.ravel(df[\"SEX\"]))\n",
    "df[[\"VAX_MANU\"]] = encoder_VAX_MANU.fit_transform(np.ravel(df[\"VAX_MANU\"]))\n",
    "df[[\"DIED\"]] = encoder_DIED.fit_transform(np.ravel(df[\"DIED\"]))\n",
    "df[[\"L_THREAT\"]] = encoder_L_THREAT.fit_transform(np.ravel(df[\"L_THREAT\"]))\n",
    "df[[\"HOSPITAL\"]] = encoder_HOSPITAL.fit_transform(np.ravel(df[\"HOSPITAL\"]))\n",
    "df[[\"DISABLE\"]] = encoder_DISABLE.fit_transform(np.ravel(df[\"DISABLE\"]))\n",
    "df[[\"RECOVD\"]] = encoder_RECOVD.fit_transform(np.ravel(df[\"RECOVD\"]))\n",
    "\n",
    "# Scale: AGE_YRS, VAX_MANU\n",
    "df[[\"AGE_YRS\"]] = scaler_AGE_YRS.fit_transform(df[[\"AGE_YRS\"]])\n",
    "\n",
    "df.head()\n",
    "#df.info()"
   ]
  },
  {
   "cell_type": "code",
   "execution_count": 5,
   "metadata": {},
   "outputs": [
    {
     "data": {
      "image/png": "[encoded data removed]",
      "text/plain": [
       "<Figure size 576x360 with 2 Axes>"
      ]
     },
     "metadata": {
      "needs_background": "light"
     },
     "output_type": "display_data"
    }
   ],
   "source": [
    "import seaborn as sns\n",
    "\n",
    "fig, ax = plt.subplots(figsize=(8,5))  \n",
    "sns.heatmap(df.corr(), annot = True, vmin=-1, vmax=1, center= 0, cmap= 'coolwarm', linewidths=1, linecolor='black')\n",
    "plt.show()"
   ]
  },
  {
   "cell_type": "code",
   "execution_count": 6,
   "metadata": {},
   "outputs": [
    {
     "data": {
      "image/png": "[encoded data removed]",
      "text/plain": [
       "<Figure size 360x576 with 6 Axes>"
      ]
     },
     "metadata": {
      "needs_background": "light"
     },
     "output_type": "display_data"
    }
   ],
   "source": [
    "from sklearn.linear_model import LogisticRegression\n",
    "from sklearn.model_selection import train_test_split\n",
    "import statistics\n",
    "\n",
    "X = df[['AGE_YRS', 'SEX', 'VAX_MANU', 'VAX_DOSE_SERIES']].copy()\n",
    "Y = df[['DIED', 'L_THREAT', 'HOSPITAL', 'DISABLE', 'RECOVD']].copy()\n",
    "\n",
    "ax = Y.hist(bins=2, figsize=(5,8))\n"
   ]
  },
  {
   "cell_type": "code",
   "execution_count": 41,
   "metadata": {},
   "outputs": [
    {
     "name": "stdout",
     "output_type": "stream",
     "text": [
      "Probability of DIED is:  0.02661347986844842\n",
      "Probability of L_THREAT is:  0.02376638335879918\n",
      "Probability of HOSPITAL is:  0.06423874234610757\n",
      "Probability of DISABLE is:  0.019008953796386625\n",
      "Probability of RECOVD is:  0.5068595536771916\n",
      "['DIED', 'L_THREAT', 'HOSPITAL', 'DISABLE', 'RECOVD']\n"
     ]
    }
   ],
   "source": [
    "#L_THREAT = life threatening\n",
    "Y_list = Y.columns.tolist()\n",
    "\n",
    "# initialize list of models\n",
    "model_list = list(map(lambda _ : LogisticRegression(), Y_list))\n",
    "    \n",
    "for i, y in enumerate(Y_list):   \n",
    "    x_train, x_test, y_train, y_test = train_test_split(X, df[y], test_size =0.3)\n",
    "    model_list[i].fit(x_train, y_train)\n",
    "    \n",
    "    # change the flag when working on RECOVD because RECOVD(N=0;Y=1) and others are(N=1;Y=0)\n",
    "    flag = 1 if y == 'RECOVD' else 0\n",
    "\n",
    "    print(\"Probability of\", Y_list[i], \"is: \", statistics.mean(model_list[i].predict_proba(x_test)[::,flag]))\n",
    "    \n",
    "print(Y.columns.tolist())"
   ]
  },
  {
   "cell_type": "code",
   "execution_count": 58,
   "metadata": {},
   "outputs": [
    {
     "data": {
      "text/plain": [
       "['../src/models/outcomes-sklearn/scaler_AGE_YRS.pkl']"
      ]
     },
     "execution_count": 58,
     "metadata": {},
     "output_type": "execute_result"
    }
   ],
   "source": [
    "import joblib\n",
    "import os\n",
    "\n",
    "BASE_DIR = \"../src/models/outcomes-sklearn/\"\n",
    "\n",
    "# clear dir\n",
    "for file in os.listdir(BASE_DIR):\n",
    "    os.remove(os.path.join(BASE_DIR, file))\n",
    "\n",
    "# save models\n",
    "for i, model in enumerate(model_list):\n",
    "    model_name = Y_list[i]\n",
    "    model_path = f\"{BASE_DIR}model_{model_name}.pkl\"\n",
    "    joblib.dump(model, model_path)\n",
    "\n",
    "# Save encoders\n",
    "joblib.dump(encoder_SEX, os.path.join(BASE_DIR, \"encoder_SEX.pkl\"))\n",
    "joblib.dump(encoder_VAX_MANU, os.path.join(BASE_DIR, \"encoder_VAX_MANU.pkl\"))\n",
    "joblib.dump(encoder_DIED, os.path.join(BASE_DIR, \"encoder_DIED.pkl\"))\n",
    "joblib.dump(encoder_L_THREAT, os.path.join(BASE_DIR, \"encoder_L_THREAT.pkl\"))\n",
    "joblib.dump(encoder_HOSPITAL, os.path.join(BASE_DIR, \"encoder_HOSPITAL.pkl\"))\n",
    "joblib.dump(encoder_DISABLE, os.path.join(BASE_DIR, \"encoder_DISABLE.pkl\"))\n",
    "joblib.dump(encoder_RECOVD, os.path.join(BASE_DIR, \"encoder_RECOVD.pkl\"))\n",
    "joblib.dump(scaler_AGE_YRS, os.path.join(BASE_DIR, \"scaler_AGE_YRS.pkl\"))"
   ]
  },
  {
   "cell_type": "code",
   "execution_count": 9,
   "metadata": {},
   "outputs": [
    {
     "data": {
      "text/plain": [
       "LogisticRegression()"
      ]
     },
     "execution_count": 9,
     "metadata": {},
     "output_type": "execute_result"
    }
   ],
   "source": [
    "# load model from filesystem\n",
    "model_ = joblib.load(os.path.join(BASE_DIR, \"outcomes.pkl\")\n",
    "model_"
   ]
  },
  {
   "cell_type": "code",
   "execution_count": 15,
   "metadata": {},
   "outputs": [
    {
     "name": "stdout",
     "output_type": "stream",
     "text": [
      "AGE_YRS            0.31887\n",
      "SEX                0.00000\n",
      "VAX_MANU           2.00000\n",
      "VAX_DOSE_SERIES    2.00000\n",
      "Name: 62393, dtype: float64\n"
     ]
    },
    {
     "data": {
      "text/plain": [
       "array([0.31886983, 0.        , 2.        , 2.        ])"
      ]
     },
     "execution_count": 15,
     "metadata": {},
     "output_type": "execute_result"
    }
   ],
   "source": [
    "sample_ = x_train.iloc[1]\n",
    "print(sample_)\n",
    "sample_array_ = np.array(sample_)\n",
    "sample_array_"
   ]
  },
  {
   "cell_type": "code",
   "execution_count": 18,
   "metadata": {},
   "outputs": [
    {
     "data": {
      "text/plain": [
       "array([[0.4575052, 0.5424948]])"
      ]
     },
     "execution_count": 18,
     "metadata": {},
     "output_type": "execute_result"
    }
   ],
   "source": [
    "model_.predict_proba([sample_array_])"
   ]
  },
  {
   "cell_type": "code",
   "execution_count": 19,
   "metadata": {},
   "outputs": [
    {
     "name": "stdout",
     "output_type": "stream",
     "text": [
      "Index(['AGE_YRS', 'SEX', 'VAX_MANU', 'VAX_DOSE_SERIES', 'DIED', 'L_THREAT',\n",
      "       'HOSPITAL', 'DISABLE', 'RECOVD'],\n",
      "      dtype='object')\n"
     ]
    }
   ],
   "source": [
    "print(df.columns)"
   ]
  },
  {
   "cell_type": "code",
   "execution_count": 56,
   "metadata": {},
   "outputs": [
    {
     "name": "stdout",
     "output_type": "stream",
     "text": [
      "0\n",
      "0\n",
      "0\n",
      "0\n",
      "1\n",
      "this is to grab the correct index\n"
     ]
    }
   ],
   "source": [
    "print(0 if encoder_DIED.inverse_transform([0]) == ['Y'] else 1)\n",
    "print(0 if encoder_L_THREAT.inverse_transform([0]) == ['Y'] else 1)\n",
    "print(0 if encoder_HOSPITAL.inverse_transform([0]) == ['Y'] else 1)\n",
    "print(0 if encoder_DISABLE.inverse_transform([0]) == ['Y'] else 1)\n",
    "print(0 if encoder_RECOVD.inverse_transform([0]) == ['Y'] else 1)\n",
    "print(\"this is to grab the correct index\")"
   ]
  }
 ],
 "metadata": {
  "kernelspec": {
   "display_name": "Python 3",
   "language": "python",
   "name": "python3"
  },
  "language_info": {
   "codemirror_mode": {
    "name": "ipython",
    "version": 3
   },
   "file_extension": ".py",
   "mimetype": "text/x-python",
   "name": "python",
   "nbconvert_exporter": "python",
   "pygments_lexer": "ipython3",
   "version": "3.8.8"
  },
  "metadata": {
   "interpreter": {
    "hash": "aee8b7b246df8f9039afb4144a1f6fd8d2ca17a180786b69acc140d282b71a49"
   }
  }
 },
 "nbformat": 4,
 "nbformat_minor": 4
}
